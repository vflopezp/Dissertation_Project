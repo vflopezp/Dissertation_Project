{
 "cells": [
  {
   "cell_type": "code",
   "execution_count": 262,
   "id": "35a1e9ad",
   "metadata": {},
   "outputs": [],
   "source": [
    "import pandas as pd\n",
    "import numpy as np\n",
    "from sklearn.model_selection import train_test_split\n",
    "from sklearn.model_selection import GridSearchCV\n",
    "from keras.models import Sequential\n",
    "from keras.layers import Dense\n",
    "from scikeras.wrappers import KerasRegressor\n",
    "from sklearn.metrics import mean_squared_error, mean_absolute_percentage_error, r2_score,mean_absolute_error\n",
    "from sklearn.preprocessing import StandardScaler\n",
    "import cpi\n",
    "import seaborn as sb\n",
    "cpi.update()"
   ]
  },
  {
   "cell_type": "code",
   "execution_count": 196,
   "id": "513ecf2e",
   "metadata": {},
   "outputs": [],
   "source": [
    "# load data\n",
    "data = pd.read_excel('./final_cleaned_dataset.xlsx')\n",
    "data = pd.get_dummies(data, drop_first=True)"
   ]
  },
  {
   "cell_type": "code",
   "execution_count": 197,
   "id": "dc82029a",
   "metadata": {},
   "outputs": [],
   "source": [
    "# Use CPI index to adjust cost of engineering services for inflation\n",
    "data['Year of the project'] = pd.to_datetime(data['Year of the project'], format='%Y') \n",
    "data[\"Cost of engineering services\"] = data.apply(\n",
    "    lambda x: cpi.inflate(x[\"Cost of engineering services\"], x[\"Year of the project\"]), axis=1\n",
    ")\n",
    "data['Year of the project'] = data['Year of the project'].dt.year.astype('int32')\n",
    "data = data.drop(['Year of the project'], axis=1)"
   ]
  },
  {
   "cell_type": "code",
   "execution_count": 198,
   "id": "651497e0",
   "metadata": {},
   "outputs": [],
   "source": [
    "# split data in test and train\n",
    "X = data.drop('Cost of engineering services', axis=1) # Features\n",
    "y = data['Cost of engineering services'] \n",
    "\n",
    "X_train, X_test, y_train, y_test = train_test_split(X, y, test_size=0.2)\n",
    "sc = StandardScaler()\n",
    "\n",
    "X_train, X_test, y_train, y_test = train_test_split(X, y, test_size=0.2)\n",
    "\n",
    "# Apply tranformations\n",
    "X_train = sc.fit_transform(X_train)\n",
    "y_train = sc.transform(y_train.to_frame())\n",
    "X_test = sc.transform(X_test)\n",
    "y_test = sc.transform(y_test.to_frame())"
   ]
  },
  {
   "cell_type": "code",
   "execution_count": 199,
   "id": "c59f5ca2",
   "metadata": {},
   "outputs": [],
   "source": [
    "# function to create model\n",
    "def make_model():\n",
    "    \n",
    "    model = Sequential()\n",
    "    model.add(Dense(units=4, input_dim=45, kernel_initializer='normal', activation='relu'))\n",
    "#     model.add(Dense(units=5, activation='relu'))\n",
    "#     model.add(Dense(units=5, activation='relu'))\n",
    "    model.add(Dense(1, kernel_initializer='normal'))\n",
    "    model.compile(loss='mean_absolute_error', optimizer=\"adam\")\n",
    "    return model"
   ]
  },
  {
   "cell_type": "code",
   "execution_count": 200,
   "id": "e19d4a97",
   "metadata": {},
   "outputs": [
    {
     "name": "stdout",
     "output_type": "stream",
     "text": [
      "0.44440252087287624 {'batch_size': 10, 'epochs': 100}\n"
     ]
    }
   ],
   "source": [
    "# specify hyperparameters to test\n",
    "params={\n",
    "    'batch_size':[10, 20, 30, 40 , 100, 200, 300, 400],\n",
    "    'epochs':[10,20, 30 ,40,100],\n",
    "}\n",
    "\n",
    "# specify the model and start grid search\n",
    "reg_model = KerasRegressor(make_model, verbose=0)\n",
    "gs = GridSearchCV(reg_model, params, refit=False, cv=4, scoring='r2')\n",
    "\n",
    "gs.fit(X_train, y_train)\n",
    "print(gs.best_score_, gs.best_params_)"
   ]
  },
  {
   "cell_type": "code",
   "execution_count": 259,
   "id": "7227011d",
   "metadata": {},
   "outputs": [],
   "source": [
    "# evaluation function \n",
    "def evaluate(model, test_features, test_labels):\n",
    "    predictions = model.predict(test_features)\n",
    "    test_labels = sc.inverse_transform(test_labels.reshape(-1, 1))\n",
    "    predictions = sc.inverse_transform(predictions.reshape(-1, 1))\n",
    "\n",
    "    r2 = r2_score(test_labels, predictions)\n",
    "    errors = abs(predictions - test_labels)\n",
    "    print('Model Performance')\n",
    "    print(f'RMSE: {mean_squared_error(test_labels, predictions, squared = False)}.')\n",
    "    print(f'MAPE: {mean_absolute_percentage_error(test_labels, predictions)}%.')\n",
    "    print(f'MAE: {mean_absolute_error(test_labels, predictions)}.')\n",
    "    print(f'R2 = {r2}. \\n')\n",
    "\n",
    "\n"
   ]
  },
  {
   "cell_type": "code",
   "execution_count": 320,
   "id": "589d1430",
   "metadata": {},
   "outputs": [
    {
     "data": {
      "text/plain": [
       "<keras.callbacks.History at 0x23282fda8e0>"
      ]
     },
     "execution_count": 320,
     "metadata": {},
     "output_type": "execute_result"
    }
   ],
   "source": [
    "# craete model using best parameters\n",
    "model2 = Sequential()\n",
    "model2.add(Dense(units=4, input_dim=45, kernel_initializer='normal', activation='relu'))\n",
    "# model2.add(Dense(units=4, activation='relu'))\n",
    "# model2.add(Dense(units=2, activation='relu'))\n",
    "model2.add(Dense(1, kernel_initializer='normal'))\n",
    "model2.compile(loss='mean_squared_error', optimizer=\"adam\")\n",
    "model2.fit(X_train, y_train ,batch_size =  gs.best_params_[\"batch_size\"], epochs = gs.best_params_[\"epochs\"], verbose=0)\n",
    "\n"
   ]
  },
  {
   "cell_type": "code",
   "execution_count": 321,
   "id": "d0229255",
   "metadata": {},
   "outputs": [
    {
     "name": "stdout",
     "output_type": "stream",
     "text": [
      "1/1 [==============================] - 0s 130ms/step\n",
      "Model Performance\n",
      "RMSE: 47264.76963455298.\n",
      "MAPE: 2.025539825840192%.\n",
      "MAE: 42908.75289391101.\n",
      "R2 = 0.6359666904824611. \n",
      "\n"
     ]
    }
   ],
   "source": [
    "evaluate(model2,X_test, y_test)"
   ]
  },
  {
   "cell_type": "code",
   "execution_count": null,
   "id": "bc398492",
   "metadata": {},
   "outputs": [],
   "source": [
    "\n"
   ]
  },
  {
   "cell_type": "code",
   "execution_count": null,
   "id": "47bf798c",
   "metadata": {},
   "outputs": [],
   "source": []
  }
 ],
 "metadata": {
  "kernelspec": {
   "display_name": "Python 3 (ipykernel)",
   "language": "python",
   "name": "python3"
  },
  "language_info": {
   "codemirror_mode": {
    "name": "ipython",
    "version": 3
   },
   "file_extension": ".py",
   "mimetype": "text/x-python",
   "name": "python",
   "nbconvert_exporter": "python",
   "pygments_lexer": "ipython3",
   "version": "3.9.13"
  }
 },
 "nbformat": 4,
 "nbformat_minor": 5
}
